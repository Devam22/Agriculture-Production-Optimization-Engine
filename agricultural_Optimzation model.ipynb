{
  "nbformat": 4,
  "nbformat_minor": 0,
  "metadata": {
    "colab": {
      "name": "agricultural. Optimzation.ipynb",
      "provenance": [],
      "collapsed_sections": []
    },
    "kernelspec": {
      "display_name": "Python 3",
      "name": "python3"
    },
    "language_info": {
      "name": "python"
    },
    "widgets": {
      "application/vnd.jupyter.widget-state+json": {
        "f8f7a7dbe1ec48a7921e111fbf7a1fb0": {
          "model_module": "@jupyter-widgets/controls",
          "model_name": "VBoxModel",
          "model_module_version": "1.5.0",
          "state": {
            "_view_name": "VBoxView",
            "_dom_classes": [
              "widget-interact"
            ],
            "_model_name": "VBoxModel",
            "_view_module": "@jupyter-widgets/controls",
            "_model_module_version": "1.5.0",
            "_view_count": null,
            "_view_module_version": "1.5.0",
            "box_style": "",
            "layout": "IPY_MODEL_3a49efe8b909453193a59694251df131",
            "_model_module": "@jupyter-widgets/controls",
            "children": [
              "IPY_MODEL_7062ab68481845d58dfee1de868f1b04",
              "IPY_MODEL_13898a5b722d4568a59babf461386859"
            ]
          }
        },
        "3a49efe8b909453193a59694251df131": {
          "model_module": "@jupyter-widgets/base",
          "model_name": "LayoutModel",
          "model_module_version": "1.2.0",
          "state": {
            "_view_name": "LayoutView",
            "grid_template_rows": null,
            "right": null,
            "justify_content": null,
            "_view_module": "@jupyter-widgets/base",
            "overflow": null,
            "_model_module_version": "1.2.0",
            "_view_count": null,
            "flex_flow": null,
            "width": null,
            "min_width": null,
            "border": null,
            "align_items": null,
            "bottom": null,
            "_model_module": "@jupyter-widgets/base",
            "top": null,
            "grid_column": null,
            "overflow_y": null,
            "overflow_x": null,
            "grid_auto_flow": null,
            "grid_area": null,
            "grid_template_columns": null,
            "flex": null,
            "_model_name": "LayoutModel",
            "justify_items": null,
            "grid_row": null,
            "max_height": null,
            "align_content": null,
            "visibility": null,
            "align_self": null,
            "height": null,
            "min_height": null,
            "padding": null,
            "grid_auto_rows": null,
            "grid_gap": null,
            "max_width": null,
            "order": null,
            "_view_module_version": "1.2.0",
            "grid_template_areas": null,
            "object_position": null,
            "object_fit": null,
            "grid_auto_columns": null,
            "margin": null,
            "display": null,
            "left": null
          }
        },
        "7062ab68481845d58dfee1de868f1b04": {
          "model_module": "@jupyter-widgets/controls",
          "model_name": "DropdownModel",
          "model_module_version": "1.5.0",
          "state": {
            "_options_labels": [
              "muskmelon",
              "blackgram",
              "banana",
              "lentil",
              "jute",
              "kidneybeans",
              "mungbean",
              "rice",
              "mango",
              "grapes",
              "papaya",
              "orange",
              "pomegranate",
              "pigeonpeas",
              "chickpea",
              "apple",
              "cotton",
              "watermelon",
              "coconut",
              "maize",
              "coffee",
              "mothbeans"
            ],
            "_view_name": "DropdownView",
            "style": "IPY_MODEL_012c569b9dcc4f91b8be05d098ce00db",
            "_dom_classes": [],
            "description": "crops",
            "_model_name": "DropdownModel",
            "index": 0,
            "_view_module": "@jupyter-widgets/controls",
            "_model_module_version": "1.5.0",
            "_view_count": null,
            "disabled": false,
            "_view_module_version": "1.5.0",
            "description_tooltip": null,
            "_model_module": "@jupyter-widgets/controls",
            "layout": "IPY_MODEL_23644d3476e14405818ebcc7a0f0d5e5"
          }
        },
        "13898a5b722d4568a59babf461386859": {
          "model_module": "@jupyter-widgets/output",
          "model_name": "OutputModel",
          "model_module_version": "1.0.0",
          "state": {
            "_view_name": "OutputView",
            "msg_id": "",
            "_dom_classes": [],
            "_model_name": "OutputModel",
            "outputs": [
              {
                "output_type": "stream",
                "name": "stdout",
                "text": [
                  "stats. of N\n",
                  "min N requied: 80\n",
                  "max N requied: 120\n",
                  "mean N requied: 100.32\n",
                  "stats. of P\n",
                  "min P requied: 5\n",
                  "max P requied: 30\n",
                  "mean P requied: 17.72\n",
                  "stats. of K\n",
                  "min K requied: 45\n",
                  "max K requied: 55\n",
                  "mean K requied: 50.08\n",
                  "stats. of Temp\n",
                  "min temp requied: 27.02415146\n",
                  "max temp requied: 29.94349168\n",
                  "mean temp requied: 28.663065755999995\n",
                  "stats. of Humidity\n",
                  "min humidity requied: 90.01506395\n",
                  "max humidity requied: 94.96218673\n",
                  "mean humidity requied: 92.34280196090002\n",
                  "stats. of PH\n",
                  "min ph requied: 6.002927293\n",
                  "max ph requied: 6.781050372999999\n",
                  "mean ph requied: 6.358805451790002\n",
                  "stats. of Rainfall\n",
                  "min rainfall requied: 20.21126747\n",
                  "max rainfall requied: 29.86681385\n",
                  "mean rainfall requied: 24.689952066000004\n"
                ]
              }
            ],
            "_view_module": "@jupyter-widgets/output",
            "_model_module_version": "1.0.0",
            "_view_count": null,
            "_view_module_version": "1.0.0",
            "layout": "IPY_MODEL_524bcc11a722412d877c79ce81a7a030",
            "_model_module": "@jupyter-widgets/output"
          }
        },
        "012c569b9dcc4f91b8be05d098ce00db": {
          "model_module": "@jupyter-widgets/controls",
          "model_name": "DescriptionStyleModel",
          "model_module_version": "1.5.0",
          "state": {
            "_view_name": "StyleView",
            "_model_name": "DescriptionStyleModel",
            "description_width": "",
            "_view_module": "@jupyter-widgets/base",
            "_model_module_version": "1.5.0",
            "_view_count": null,
            "_view_module_version": "1.2.0",
            "_model_module": "@jupyter-widgets/controls"
          }
        },
        "23644d3476e14405818ebcc7a0f0d5e5": {
          "model_module": "@jupyter-widgets/base",
          "model_name": "LayoutModel",
          "model_module_version": "1.2.0",
          "state": {
            "_view_name": "LayoutView",
            "grid_template_rows": null,
            "right": null,
            "justify_content": null,
            "_view_module": "@jupyter-widgets/base",
            "overflow": null,
            "_model_module_version": "1.2.0",
            "_view_count": null,
            "flex_flow": null,
            "width": null,
            "min_width": null,
            "border": null,
            "align_items": null,
            "bottom": null,
            "_model_module": "@jupyter-widgets/base",
            "top": null,
            "grid_column": null,
            "overflow_y": null,
            "overflow_x": null,
            "grid_auto_flow": null,
            "grid_area": null,
            "grid_template_columns": null,
            "flex": null,
            "_model_name": "LayoutModel",
            "justify_items": null,
            "grid_row": null,
            "max_height": null,
            "align_content": null,
            "visibility": null,
            "align_self": null,
            "height": null,
            "min_height": null,
            "padding": null,
            "grid_auto_rows": null,
            "grid_gap": null,
            "max_width": null,
            "order": null,
            "_view_module_version": "1.2.0",
            "grid_template_areas": null,
            "object_position": null,
            "object_fit": null,
            "grid_auto_columns": null,
            "margin": null,
            "display": null,
            "left": null
          }
        },
        "524bcc11a722412d877c79ce81a7a030": {
          "model_module": "@jupyter-widgets/base",
          "model_name": "LayoutModel",
          "model_module_version": "1.2.0",
          "state": {
            "_view_name": "LayoutView",
            "grid_template_rows": null,
            "right": null,
            "justify_content": null,
            "_view_module": "@jupyter-widgets/base",
            "overflow": null,
            "_model_module_version": "1.2.0",
            "_view_count": null,
            "flex_flow": null,
            "width": null,
            "min_width": null,
            "border": null,
            "align_items": null,
            "bottom": null,
            "_model_module": "@jupyter-widgets/base",
            "top": null,
            "grid_column": null,
            "overflow_y": null,
            "overflow_x": null,
            "grid_auto_flow": null,
            "grid_area": null,
            "grid_template_columns": null,
            "flex": null,
            "_model_name": "LayoutModel",
            "justify_items": null,
            "grid_row": null,
            "max_height": null,
            "align_content": null,
            "visibility": null,
            "align_self": null,
            "height": null,
            "min_height": null,
            "padding": null,
            "grid_auto_rows": null,
            "grid_gap": null,
            "max_width": null,
            "order": null,
            "_view_module_version": "1.2.0",
            "grid_template_areas": null,
            "object_position": null,
            "object_fit": null,
            "grid_auto_columns": null,
            "margin": null,
            "display": null,
            "left": null
          }
        },
        "9de573886645445a9f521641e5c6f6c8": {
          "model_module": "@jupyter-widgets/controls",
          "model_name": "VBoxModel",
          "model_module_version": "1.5.0",
          "state": {
            "_view_name": "VBoxView",
            "_dom_classes": [
              "widget-interact"
            ],
            "_model_name": "VBoxModel",
            "_view_module": "@jupyter-widgets/controls",
            "_model_module_version": "1.5.0",
            "_view_count": null,
            "_view_module_version": "1.5.0",
            "box_style": "",
            "layout": "IPY_MODEL_9af6331a7d2a4b88a80f52952b36ec60",
            "_model_module": "@jupyter-widgets/controls",
            "children": [
              "IPY_MODEL_6df28e8cb44d42e08db426e231930724",
              "IPY_MODEL_21de8390ac484c288673257d5174d5ff"
            ]
          }
        },
        "9af6331a7d2a4b88a80f52952b36ec60": {
          "model_module": "@jupyter-widgets/base",
          "model_name": "LayoutModel",
          "model_module_version": "1.2.0",
          "state": {
            "_view_name": "LayoutView",
            "grid_template_rows": null,
            "right": null,
            "justify_content": null,
            "_view_module": "@jupyter-widgets/base",
            "overflow": null,
            "_model_module_version": "1.2.0",
            "_view_count": null,
            "flex_flow": null,
            "width": null,
            "min_width": null,
            "border": null,
            "align_items": null,
            "bottom": null,
            "_model_module": "@jupyter-widgets/base",
            "top": null,
            "grid_column": null,
            "overflow_y": null,
            "overflow_x": null,
            "grid_auto_flow": null,
            "grid_area": null,
            "grid_template_columns": null,
            "flex": null,
            "_model_name": "LayoutModel",
            "justify_items": null,
            "grid_row": null,
            "max_height": null,
            "align_content": null,
            "visibility": null,
            "align_self": null,
            "height": null,
            "min_height": null,
            "padding": null,
            "grid_auto_rows": null,
            "grid_gap": null,
            "max_width": null,
            "order": null,
            "_view_module_version": "1.2.0",
            "grid_template_areas": null,
            "object_position": null,
            "object_fit": null,
            "grid_auto_columns": null,
            "margin": null,
            "display": null,
            "left": null
          }
        },
        "6df28e8cb44d42e08db426e231930724": {
          "model_module": "@jupyter-widgets/controls",
          "model_name": "DropdownModel",
          "model_module_version": "1.5.0",
          "state": {
            "_options_labels": [
              "N",
              "P",
              "K",
              "temperature",
              "ph",
              "humidity",
              "rainfall"
            ],
            "_view_name": "DropdownView",
            "style": "IPY_MODEL_e5d1ecc9326b4fa8b72e858bcd1550af",
            "_dom_classes": [],
            "description": "condition",
            "_model_name": "DropdownModel",
            "index": 0,
            "_view_module": "@jupyter-widgets/controls",
            "_model_module_version": "1.5.0",
            "_view_count": null,
            "disabled": false,
            "_view_module_version": "1.5.0",
            "description_tooltip": null,
            "_model_module": "@jupyter-widgets/controls",
            "layout": "IPY_MODEL_ed83bfa349b943199e78c74b1d2ad00a"
          }
        },
        "21de8390ac484c288673257d5174d5ff": {
          "model_module": "@jupyter-widgets/output",
          "model_name": "OutputModel",
          "model_module_version": "1.0.0",
          "state": {
            "_view_name": "OutputView",
            "msg_id": "",
            "_dom_classes": [],
            "_model_name": "OutputModel",
            "outputs": [
              {
                "output_type": "stream",
                "name": "stdout",
                "text": [
                  "require greater than avg.   N \n",
                  "\n"
                ]
              },
              {
                "output_type": "stream",
                "name": "stdout",
                "text": [
                  "['rice' 'maize' 'chickpea' 'blackgram' 'banana' 'watermelon' 'muskmelon'\n",
                  " 'papaya' 'cotton' 'jute' 'coffee']\n",
                  "----------\n",
                  "require less than avg  N \n",
                  "\n",
                  "['chickpea' 'kidneybeans' 'pigeonpeas' 'mothbeans' 'mungbean' 'blackgram'\n",
                  " 'lentil' 'pomegranate' 'mango' 'grapes' 'apple' 'orange' 'papaya'\n",
                  " 'coconut']\n"
                ]
              }
            ],
            "_view_module": "@jupyter-widgets/output",
            "_model_module_version": "1.0.0",
            "_view_count": null,
            "_view_module_version": "1.0.0",
            "layout": "IPY_MODEL_9dd7a681fc814c4cb0f906bd37dfbd81",
            "_model_module": "@jupyter-widgets/output"
          }
        },
        "e5d1ecc9326b4fa8b72e858bcd1550af": {
          "model_module": "@jupyter-widgets/controls",
          "model_name": "DescriptionStyleModel",
          "model_module_version": "1.5.0",
          "state": {
            "_view_name": "StyleView",
            "_model_name": "DescriptionStyleModel",
            "description_width": "",
            "_view_module": "@jupyter-widgets/base",
            "_model_module_version": "1.5.0",
            "_view_count": null,
            "_view_module_version": "1.2.0",
            "_model_module": "@jupyter-widgets/controls"
          }
        },
        "ed83bfa349b943199e78c74b1d2ad00a": {
          "model_module": "@jupyter-widgets/base",
          "model_name": "LayoutModel",
          "model_module_version": "1.2.0",
          "state": {
            "_view_name": "LayoutView",
            "grid_template_rows": null,
            "right": null,
            "justify_content": null,
            "_view_module": "@jupyter-widgets/base",
            "overflow": null,
            "_model_module_version": "1.2.0",
            "_view_count": null,
            "flex_flow": null,
            "width": null,
            "min_width": null,
            "border": null,
            "align_items": null,
            "bottom": null,
            "_model_module": "@jupyter-widgets/base",
            "top": null,
            "grid_column": null,
            "overflow_y": null,
            "overflow_x": null,
            "grid_auto_flow": null,
            "grid_area": null,
            "grid_template_columns": null,
            "flex": null,
            "_model_name": "LayoutModel",
            "justify_items": null,
            "grid_row": null,
            "max_height": null,
            "align_content": null,
            "visibility": null,
            "align_self": null,
            "height": null,
            "min_height": null,
            "padding": null,
            "grid_auto_rows": null,
            "grid_gap": null,
            "max_width": null,
            "order": null,
            "_view_module_version": "1.2.0",
            "grid_template_areas": null,
            "object_position": null,
            "object_fit": null,
            "grid_auto_columns": null,
            "margin": null,
            "display": null,
            "left": null
          }
        },
        "9dd7a681fc814c4cb0f906bd37dfbd81": {
          "model_module": "@jupyter-widgets/base",
          "model_name": "LayoutModel",
          "model_module_version": "1.2.0",
          "state": {
            "_view_name": "LayoutView",
            "grid_template_rows": null,
            "right": null,
            "justify_content": null,
            "_view_module": "@jupyter-widgets/base",
            "overflow": null,
            "_model_module_version": "1.2.0",
            "_view_count": null,
            "flex_flow": null,
            "width": null,
            "min_width": null,
            "border": null,
            "align_items": null,
            "bottom": null,
            "_model_module": "@jupyter-widgets/base",
            "top": null,
            "grid_column": null,
            "overflow_y": null,
            "overflow_x": null,
            "grid_auto_flow": null,
            "grid_area": null,
            "grid_template_columns": null,
            "flex": null,
            "_model_name": "LayoutModel",
            "justify_items": null,
            "grid_row": null,
            "max_height": null,
            "align_content": null,
            "visibility": null,
            "align_self": null,
            "height": null,
            "min_height": null,
            "padding": null,
            "grid_auto_rows": null,
            "grid_gap": null,
            "max_width": null,
            "order": null,
            "_view_module_version": "1.2.0",
            "grid_template_areas": null,
            "object_position": null,
            "object_fit": null,
            "grid_auto_columns": null,
            "margin": null,
            "display": null,
            "left": null
          }
        }
      }
    }
  },
  "cells": [
    {
      "cell_type": "code",
      "metadata": {
        "id": "KBUsDfKg0Pz3"
      },
      "source": [
        "#for data manipulation\n",
        "import numpy as np"
      ],
      "execution_count": null,
      "outputs": []
    },
    {
      "cell_type": "code",
      "metadata": {
        "id": "gqfL2eIO6-UX"
      },
      "source": [
        "#for data manipulation\n",
        "import pandas as pd\n"
      ],
      "execution_count": null,
      "outputs": []
    },
    {
      "cell_type": "code",
      "metadata": {
        "id": "1souEPzU7QPf"
      },
      "source": [
        "#for data visualisation\n",
        "import seaborn as sns"
      ],
      "execution_count": null,
      "outputs": []
    },
    {
      "cell_type": "code",
      "metadata": {
        "id": "P9Rr6XSU7ZTA"
      },
      "source": [
        "#for data visualisation\n",
        "import matplotlib.pyplot as plt"
      ],
      "execution_count": null,
      "outputs": []
    },
    {
      "cell_type": "code",
      "metadata": {
        "id": "Z03Z4-Lt7shU"
      },
      "source": [
        "#for interactivety\n",
        "from ipywidgets import interact"
      ],
      "execution_count": null,
      "outputs": []
    },
    {
      "cell_type": "code",
      "metadata": {
        "id": "P0mEMA8T8bC9"
      },
      "source": [
        "#read dataset\n",
        "data = pd.read_csv('/content/data.csv')"
      ],
      "execution_count": null,
      "outputs": []
    },
    {
      "cell_type": "code",
      "metadata": {
        "id": "op1H-T798_UM",
        "colab": {
          "base_uri": "https://localhost:8080/"
        },
        "outputId": "9f44fcca-9be3-409f-f3f3-7cce522c8d3b"
      },
      "source": [
        "print(data)"
      ],
      "execution_count": null,
      "outputs": [
        {
          "output_type": "stream",
          "name": "stdout",
          "text": [
            "        N   P   K  temperature   humidity        ph    rainfall   label\n",
            "0      90  42  43    20.879744  82.002744  6.502985  202.935536    rice\n",
            "1      85  58  41    21.770462  80.319644  7.038096  226.655537    rice\n",
            "2      60  55  44    23.004459  82.320763  7.840207  263.964248    rice\n",
            "3      74  35  40    26.491096  80.158363  6.980401  242.864034    rice\n",
            "4      78  42  42    20.130175  81.604873  7.628473  262.717340    rice\n",
            "...   ...  ..  ..          ...        ...       ...         ...     ...\n",
            "2195  107  34  32    26.774637  66.413269  6.780064  177.774507  coffee\n",
            "2196   99  15  27    27.417112  56.636362  6.086922  127.924610  coffee\n",
            "2197  118  33  30    24.131797  67.225123  6.362608  173.322839  coffee\n",
            "2198  117  32  34    26.272418  52.127394  6.758793  127.175293  coffee\n",
            "2199  104  18  30    23.603016  60.396475  6.779833  140.937041  coffee\n",
            "\n",
            "[2200 rows x 8 columns]\n"
          ]
        }
      ]
    },
    {
      "cell_type": "code",
      "metadata": {
        "id": "HkG_vlyP9TVZ",
        "colab": {
          "base_uri": "https://localhost:8080/"
        },
        "outputId": "e9056f2e-b6af-4a12-847f-60ff92854aaf"
      },
      "source": [
        "#data set size\n",
        "print(data.shape)"
      ],
      "execution_count": null,
      "outputs": [
        {
          "output_type": "stream",
          "name": "stdout",
          "text": [
            "(2200, 8)\n"
          ]
        }
      ]
    },
    {
      "cell_type": "code",
      "metadata": {
        "id": "IG2gwqZF9d_j",
        "colab": {
          "base_uri": "https://localhost:8080/"
        },
        "outputId": "09e1e84c-a0cb-40d2-e81a-782704d6b00e"
      },
      "source": [
        "# To check for any missing value present in dataset\n",
        "data.isnull().sum()"
      ],
      "execution_count": null,
      "outputs": [
        {
          "output_type": "execute_result",
          "data": {
            "text/plain": [
              "N              0\n",
              "P              0\n",
              "K              0\n",
              "temperature    0\n",
              "humidity       0\n",
              "ph             0\n",
              "rainfall       0\n",
              "label          0\n",
              "dtype: int64"
            ]
          },
          "metadata": {},
          "execution_count": 9
        }
      ]
    },
    {
      "cell_type": "code",
      "metadata": {
        "id": "6LcH7AGk_uhL",
        "colab": {
          "base_uri": "https://localhost:8080/"
        },
        "outputId": "c69213b3-6b0c-4aff-fbe0-4a9b6618ac1a"
      },
      "source": [
        "#To check frequency of data\n",
        "data['label'].value_counts()"
      ],
      "execution_count": null,
      "outputs": [
        {
          "output_type": "execute_result",
          "data": {
            "text/plain": [
              "muskmelon      100\n",
              "blackgram      100\n",
              "banana         100\n",
              "lentil         100\n",
              "jute           100\n",
              "kidneybeans    100\n",
              "mungbean       100\n",
              "rice           100\n",
              "mango          100\n",
              "grapes         100\n",
              "papaya         100\n",
              "orange         100\n",
              "pomegranate    100\n",
              "pigeonpeas     100\n",
              "chickpea       100\n",
              "apple          100\n",
              "cotton         100\n",
              "watermelon     100\n",
              "coconut        100\n",
              "maize          100\n",
              "coffee         100\n",
              "mothbeans      100\n",
              "Name: label, dtype: int64"
            ]
          },
          "metadata": {},
          "execution_count": 10
        }
      ]
    },
    {
      "cell_type": "code",
      "metadata": {
        "id": "pz3RM77hBFkm",
        "colab": {
          "base_uri": "https://localhost:8080/"
        },
        "outputId": "4c0e601d-146b-4ade-85e0-66df1de8440f"
      },
      "source": [
        "#To check summary for all crops\n",
        "\n",
        "print(\"avg. n:{0:.3f}\".format(data['N'].mean()))\n",
        "print(\"avg. p:{0:.3f}\".format(data['P'].mean()))\n",
        "print(\"avg. k:{0:.3f}\".format(data['N'].mean()))\n",
        "print(\"avg. temp:{0:.3f}\".format(data['temperature'].mean()))\n",
        "print(\"avg. humidity:{0:.3f}\".format(data['humidity'].mean()))\n",
        "print(\"avg. ph:{0:.3f}\".format(data['ph'].mean()))\n",
        "print(\"avg. rainfall:{0:.3f}\".format(data['rainfall'].mean()))\n"
      ],
      "execution_count": null,
      "outputs": [
        {
          "output_type": "stream",
          "name": "stdout",
          "text": [
            "avg. n:50.552\n",
            "avg. p:53.363\n",
            "avg. k:50.552\n",
            "avg. temp:25.616\n",
            "avg. humidity:71.482\n",
            "avg. ph:6.469\n",
            "avg. rainfall:103.464\n"
          ]
        }
      ]
    },
    {
      "cell_type": "code",
      "metadata": {
        "id": "Kw_kwXzkD86W",
        "colab": {
          "base_uri": "https://localhost:8080/",
          "height": 519,
          "referenced_widgets": [
            "f8f7a7dbe1ec48a7921e111fbf7a1fb0",
            "3a49efe8b909453193a59694251df131",
            "7062ab68481845d58dfee1de868f1b04",
            "13898a5b722d4568a59babf461386859",
            "012c569b9dcc4f91b8be05d098ce00db",
            "23644d3476e14405818ebcc7a0f0d5e5",
            "524bcc11a722412d877c79ce81a7a030"
          ]
        },
        "outputId": "6c18e30d-52e7-4ff2-e12c-cf4f06b70e94"
      },
      "source": [
        "#To check summary statistics for each crops\n",
        "\n",
        "@interact\n",
        "def summary(crops=list(data['label'].value_counts().index)):\n",
        "  x=data[data['label']==crops]\n",
        "  print(\"stats. of N\")\n",
        "  print(\"min N requied:\",x['N'].min())\n",
        "  print(\"max N requied:\",x['N'].max())\n",
        "  print(\"mean N requied:\",x['N'].mean())\n",
        "  print(\"stats. of P\")\n",
        "  print(\"min P requied:\",x['P'].min())\n",
        "  print(\"max P requied:\",x['P'].max())\n",
        "  print(\"mean P requied:\",x['P'].mean())\n",
        "  print(\"stats. of K\")\n",
        "  print(\"min K requied:\",x['K'].min())\n",
        "  print(\"max K requied:\",x['K'].max())\n",
        "  print(\"mean K requied:\",x['K'].mean())\n",
        "  print(\"stats. of Temp\")\n",
        "  print(\"min temp requied:\",x['temperature'].min())\n",
        "  print(\"max temp requied:\",x['temperature'].max())\n",
        "  print(\"mean temp requied:\",x['temperature'].mean())\n",
        "  print(\"stats. of Humidity\")\n",
        "  print(\"min humidity requied:\",x['humidity'].min())\n",
        "  print(\"max humidity requied:\",x['humidity'].max())\n",
        "  print(\"mean humidity requied:\",x['humidity'].mean())\n",
        "  print(\"stats. of PH\")\n",
        "  print(\"min ph requied:\",x['ph'].min())\n",
        "  print(\"max ph requied:\",x['ph'].max())\n",
        "  print(\"mean ph requied:\",x['ph'].mean())\n",
        "  print(\"stats. of Rainfall\")\n",
        "  print(\"min rainfall requied:\",x['rainfall'].min())\n",
        "  print(\"max rainfall requied:\",x['rainfall'].max())\n",
        "  print(\"mean rainfall requied:\",x['rainfall'].mean())\n",
        "\n"
      ],
      "execution_count": null,
      "outputs": [
        {
          "output_type": "display_data",
          "data": {
            "application/vnd.jupyter.widget-view+json": {
              "model_id": "f8f7a7dbe1ec48a7921e111fbf7a1fb0",
              "version_minor": 0,
              "version_major": 2
            },
            "text/plain": [
              "interactive(children=(Dropdown(description='crops', options=('muskmelon', 'blackgram', 'banana', 'lentil', 'ju…"
            ]
          },
          "metadata": {}
        }
      ]
    },
    {
      "cell_type": "code",
      "metadata": {
        "id": "wCdQheCaIu2C",
        "colab": {
          "base_uri": "https://localhost:8080/",
          "height": 217,
          "referenced_widgets": [
            "9de573886645445a9f521641e5c6f6c8",
            "9af6331a7d2a4b88a80f52952b36ec60",
            "6df28e8cb44d42e08db426e231930724",
            "21de8390ac484c288673257d5174d5ff",
            "e5d1ecc9326b4fa8b72e858bcd1550af",
            "ed83bfa349b943199e78c74b1d2ad00a",
            "9dd7a681fc814c4cb0f906bd37dfbd81"
          ]
        },
        "outputId": "55f1c3b7-2918-4931-ac53-fddfd1d61eb8"
      },
      "source": [
        "@interact\n",
        "def compare(condition=['N','P','K','temperature','ph','humidity','rainfall']):\n",
        "  print(\"require greater than avg.  \",condition,'\\n')\n",
        "  print(data[data[condition]>data[condition].mean()]['label'].unique())\n",
        "  print(\"----------\")\n",
        "  print(\"require less than avg \",condition,'\\n')\n",
        "  print(data[data[condition]<=data[condition].mean()]['label'].unique())\n"
      ],
      "execution_count": null,
      "outputs": [
        {
          "output_type": "display_data",
          "data": {
            "application/vnd.jupyter.widget-view+json": {
              "model_id": "9de573886645445a9f521641e5c6f6c8",
              "version_minor": 0,
              "version_major": 2
            },
            "text/plain": [
              "interactive(children=(Dropdown(description='condition', options=('N', 'P', 'K', 'temperature', 'ph', 'humidity…"
            ]
          },
          "metadata": {}
        }
      ]
    },
    {
      "cell_type": "code",
      "metadata": {
        "id": "3WGpVuCnOSUn",
        "colab": {
          "base_uri": "https://localhost:8080/",
          "height": 812
        },
        "outputId": "9e359f2f-52a0-472c-dd82-0fa1dc47ed07"
      },
      "source": [
        "#visualisation of disiribution of agriculatural conditions\n",
        "\n",
        "plt.figure(figsize=(18,8))\n",
        "plt.subplot(2,4,1)\n",
        "sns.distplot(data['N'],color='blue')\n",
        "plt.xlabel('ratio of nitrogen',fontsize=12)\n",
        "plt.grid()\n",
        "plt.subplot(2,4,2)\n",
        "sns.distplot(data['K'],color='darkblue')\n",
        "plt.xlabel('ratio of Potessuim',fontsize=12)\n",
        "plt.subplot(2,4,3)\n",
        "sns.distplot(data['P'],color='grey')\n",
        "plt.xlabel('ratio of Phospharus',fontsize=12)\n",
        "plt.subplot(2,4,4)\n",
        "sns.distplot(data['temperature'],color='violet')\n",
        "plt.xlabel('temperature',fontsize=12)\n",
        "plt.subplot(2,4,5)\n",
        "sns.distplot(data['humidity'],color='green')\n",
        "plt.xlabel('humidity',fontsize=12)\n",
        "plt.subplot(2,4,6)\n",
        "sns.distplot(data['ph'],color='red')\n",
        "plt.xlabel('ph',fontsize=12)\n",
        "plt.subplot(2,4,7)\n",
        "sns.distplot(data['rainfall'],color='black')\n",
        "plt.xlabel('rainfall',fontsize=12)\n",
        "plt.suptitle(\"Distribution of Aricultural condition\",fontsize=20)\n",
        "plt.grid()\n",
        "plt.show()"
      ],
      "execution_count": null,
      "outputs": [
        {
          "output_type": "stream",
          "name": "stderr",
          "text": [
            "/usr/local/lib/python3.7/dist-packages/seaborn/distributions.py:2619: FutureWarning: `distplot` is a deprecated function and will be removed in a future version. Please adapt your code to use either `displot` (a figure-level function with similar flexibility) or `histplot` (an axes-level function for histograms).\n",
            "  warnings.warn(msg, FutureWarning)\n",
            "/usr/local/lib/python3.7/dist-packages/seaborn/distributions.py:2619: FutureWarning: `distplot` is a deprecated function and will be removed in a future version. Please adapt your code to use either `displot` (a figure-level function with similar flexibility) or `histplot` (an axes-level function for histograms).\n",
            "  warnings.warn(msg, FutureWarning)\n",
            "/usr/local/lib/python3.7/dist-packages/seaborn/distributions.py:2619: FutureWarning: `distplot` is a deprecated function and will be removed in a future version. Please adapt your code to use either `displot` (a figure-level function with similar flexibility) or `histplot` (an axes-level function for histograms).\n",
            "  warnings.warn(msg, FutureWarning)\n",
            "/usr/local/lib/python3.7/dist-packages/seaborn/distributions.py:2619: FutureWarning: `distplot` is a deprecated function and will be removed in a future version. Please adapt your code to use either `displot` (a figure-level function with similar flexibility) or `histplot` (an axes-level function for histograms).\n",
            "  warnings.warn(msg, FutureWarning)\n",
            "/usr/local/lib/python3.7/dist-packages/seaborn/distributions.py:2619: FutureWarning: `distplot` is a deprecated function and will be removed in a future version. Please adapt your code to use either `displot` (a figure-level function with similar flexibility) or `histplot` (an axes-level function for histograms).\n",
            "  warnings.warn(msg, FutureWarning)\n",
            "/usr/local/lib/python3.7/dist-packages/seaborn/distributions.py:2619: FutureWarning: `distplot` is a deprecated function and will be removed in a future version. Please adapt your code to use either `displot` (a figure-level function with similar flexibility) or `histplot` (an axes-level function for histograms).\n",
            "  warnings.warn(msg, FutureWarning)\n",
            "/usr/local/lib/python3.7/dist-packages/seaborn/distributions.py:2619: FutureWarning: `distplot` is a deprecated function and will be removed in a future version. Please adapt your code to use either `displot` (a figure-level function with similar flexibility) or `histplot` (an axes-level function for histograms).\n",
            "  warnings.warn(msg, FutureWarning)\n"
          ]
        },
        {
          "output_type": "display_data",
          "data": {
            "image/png": "[encoded data removed]",
            "text/plain": [
              "<Figure size 1296x576 with 7 Axes>"
            ]
          },
          "metadata": {
            "needs_background": "light"
          }
        }
      ]
    },
    {
      "cell_type": "code",
      "metadata": {
        "id": "UTvTwFaMSEoj",
        "colab": {
          "base_uri": "https://localhost:8080/"
        },
        "outputId": "a2a1412b-a020-46b2-aae0-446af6b90425"
      },
      "source": [
        "#To find so,e unique facts\n",
        "\n",
        "print(\"some interesting pattern\")\n",
        "print(\"crops which requires high ration of nitrogen:\",data[data['N']>120]['label'].unique())\n",
        "print(\"crops which requires high ration of phosphorus:\",data[data['P']>100]['label'].unique())\n",
        "print(\"crops which requires high ration of potassuim:\",data[data['K']>200]['label'].unique())\n",
        "print(\"crops which requires high temperature:\",data[data['temperature']>40]['label'].unique())\n",
        "print(\"crops which requires low temperature:\",data[data['temperature']<10]['label'].unique())\n",
        "print(\"crops with low humidity:\",data[data['humidity']<20]['label'].unique())\n",
        "print(\"crops which requires high ph:\",data[data['ph']>9]['label'].unique())\n",
        "print(\"crops which requires low ph:\",data[data['ph']<4]['label'].unique())\n",
        "print(\"crops with high rainfall:\",data[data['rainfall']>200]['label'].unique())\n",
        "\n"
      ],
      "execution_count": null,
      "outputs": [
        {
          "output_type": "stream",
          "name": "stdout",
          "text": [
            "some interesting pattern\n",
            "crops which requires high ration of nitrogen: ['cotton']\n",
            "crops which requires high ration of phosphorus: ['grapes' 'apple']\n",
            "crops which requires high ration of potassuim: ['grapes' 'apple']\n",
            "crops which requires high temperature: ['grapes' 'papaya']\n",
            "crops which requires low temperature: ['grapes']\n",
            "crops with low humidity: ['chickpea' 'kidneybeans']\n",
            "crops which requires high ph: ['mothbeans']\n",
            "crops which requires low ph: ['mothbeans']\n",
            "crops with high rainfall: ['rice' 'papaya' 'coconut']\n"
          ]
        }
      ]
    },
    {
      "cell_type": "code",
      "metadata": {
        "id": "mRdIah9q0I6E",
        "colab": {
          "base_uri": "https://localhost:8080/"
        },
        "outputId": "fa7a7b96-b279-4404-d87d-c6bc04a0f10f"
      },
      "source": [
        "#To find which corps can grow in which condition \n",
        "\n",
        "print(\"summer corps\")\n",
        "print(data[(data['temperature']>30) & (data['humidity']>50)]['label'].unique())\n",
        "print(\"winter corps\")\n",
        "print(data[(data['temperature']<20) & (data['humidity']>30)]['label'].unique())\n",
        "print(\"monsoon corps\")\n",
        "print(data[(data['rainfall']>200) & (data['humidity']>50)]['label'].unique())"
      ],
      "execution_count": null,
      "outputs": [
        {
          "output_type": "stream",
          "name": "stdout",
          "text": [
            "summer corps\n",
            "['pigeonpeas' 'mothbeans' 'blackgram' 'mango' 'grapes' 'orange' 'papaya']\n",
            "winter corps\n",
            "['maize' 'pigeonpeas' 'lentil' 'pomegranate' 'grapes' 'orange']\n",
            "monsoon corps\n",
            "['rice' 'papaya' 'coconut']\n"
          ]
        }
      ]
    },
    {
      "cell_type": "code",
      "metadata": {
        "id": "s59GNsGX2mbZ",
        "colab": {
          "base_uri": "https://localhost:8080/"
        },
        "outputId": "507f5594-52bb-4aac-c6b5-6286c5bb7bf3"
      },
      "source": [
        "from sklearn.cluster import KMeans\n",
        "\n",
        "#Removing label column\n",
        "x=data.drop(['label'],axis=1)\n",
        "\n",
        "x=x.values\n",
        "print(x.shape)"
      ],
      "execution_count": null,
      "outputs": [
        {
          "output_type": "stream",
          "name": "stdout",
          "text": [
            "(2200, 7)\n"
          ]
        }
      ]
    },
    {
      "cell_type": "code",
      "metadata": {
        "id": "iFUSPQjNF6ds",
        "colab": {
          "base_uri": "https://localhost:8080/",
          "height": 300
        },
        "outputId": "b7c9d805-799e-4caa-a668-62cdafdd7c80"
      },
      "source": [
        "#To determine optimum number of cluster within dataset\n",
        "\n",
        "plt.rcParams[\"figure.figsize\"]=(10,4)\n",
        "wcss=[]\n",
        "for i in range(1,11):\n",
        "  km=KMeans(n_clusters=i,init=\"k-means++\",max_iter=300,n_init=10,random_state=0)\n",
        "  km.fit(x)\n",
        "  wcss.append(km.inertia_)\n",
        "\n",
        "plt.plot(range(1,11),wcss)\n",
        "plt.title(\"elbow\",fontsize=20)\n",
        "plt.xlabel(\"no. of clusters\")\n",
        "plt.ylabel(\"wcss\")\n",
        "plt.show()\n"
      ],
      "execution_count": null,
      "outputs": [
        {
          "output_type": "display_data",
          "data": {
            "image/png": "[encoded data removed]",
            "text/plain": [
              "<Figure size 720x288 with 1 Axes>"
            ]
          },
          "metadata": {
            "needs_background": "light"
          }
        }
      ]
    },
    {
      "cell_type": "code",
      "metadata": {
        "id": "M2MLyz8vH8WS",
        "colab": {
          "base_uri": "https://localhost:8080/"
        },
        "outputId": "6320d8a4-6cad-419e-d2fe-3e62c82bae58"
      },
      "source": [
        "#Implementation of k-means algorithem for cluster analysis\n",
        "\n",
        "km=KMeans(n_clusters=4,init=\"k-means++\",max_iter=300,n_init=10,random_state=0)\n",
        "y_means=km.fit_predict(x)\n",
        "a=data[\"label\"]\n",
        "y_means=pd.DataFrame(y_means)\n",
        "z=pd.concat([y_means,a],axis=1)\n",
        "z=z.rename(columns={0:\"cluster\"})\n",
        "\n",
        "print(\"1 cluster\",z[z[\"cluster\"]==0][\"label\"].unique())\n",
        "print(\"----------------------------------------------\")\n",
        "print(\"2 cluster\",z[z[\"cluster\"]==1][\"label\"].unique())\n",
        "print(\"----------------------------------------------\")\n",
        "print(\"3 cluster\",z[z[\"cluster\"]==2][\"label\"].unique())\n",
        "print(\"----------------------------------------------\")\n",
        "print(\"4 cluster\",z[z[\"cluster\"]==3][\"label\"].unique())\n",
        "print(\"----------------------------------------------\")"
      ],
      "execution_count": null,
      "outputs": [
        {
          "output_type": "stream",
          "name": "stdout",
          "text": [
            "1 cluster ['maize' 'chickpea' 'kidneybeans' 'pigeonpeas' 'mothbeans' 'mungbean'\n",
            " 'blackgram' 'lentil' 'pomegranate' 'mango' 'orange' 'papaya' 'coconut']\n",
            "----------------------------------------------\n",
            "2 cluster ['maize' 'banana' 'watermelon' 'muskmelon' 'papaya' 'cotton' 'coffee']\n",
            "----------------------------------------------\n",
            "3 cluster ['grapes' 'apple']\n",
            "----------------------------------------------\n",
            "4 cluster ['rice' 'pigeonpeas' 'papaya' 'coconut' 'jute' 'coffee']\n",
            "----------------------------------------------\n"
          ]
        }
      ]
    },
    {
      "cell_type": "code",
      "metadata": {
        "id": "vZJfW2RHJ0Bm",
        "colab": {
          "base_uri": "https://localhost:8080/"
        },
        "outputId": "b4c95519-0384-44e5-88a2-0a80f31461dd"
      },
      "source": [
        "#spilt dataset for predective modeling\n",
        "\n",
        "y=data[\"label\"]\n",
        "x=data.drop([\"label\"],axis=1)\n",
        "print(x.shape)\n",
        "print(y.shape)"
      ],
      "execution_count": null,
      "outputs": [
        {
          "output_type": "stream",
          "name": "stdout",
          "text": [
            "(2200, 7)\n",
            "(2200,)\n"
          ]
        }
      ]
    },
    {
      "cell_type": "code",
      "metadata": {
        "id": "6G2gH7ZqJGJo"
      },
      "source": [
        "#To find runtime for algorithm \n",
        "\n",
        "import timeit"
      ],
      "execution_count": null,
      "outputs": []
    },
    {
      "cell_type": "code",
      "metadata": {
        "id": "c6fbl2sSKN2_",
        "colab": {
          "base_uri": "https://localhost:8080/"
        },
        "outputId": "4b7352a5-5bc9-40ce-c257-970e73420c66"
      },
      "source": [
        "#create trainig and traing set \n",
        "\n",
        "from sklearn.model_selection import train_test_split\n",
        "x_train, x_test, y_train, y_test = train_test_split(x,y,test_size=0.2,random_state=0)\n",
        "\n",
        "print(\"shape of x train: \",x_train.shape)\n",
        "print(\"shape of x test: \",x_test.shape)\n",
        "print(\"shape of y train: \",y_train.shape)\n",
        "print(\"shape of y test: \",y_test.shape)"
      ],
      "execution_count": null,
      "outputs": [
        {
          "output_type": "stream",
          "name": "stdout",
          "text": [
            "shape of x train:  (1760, 7)\n",
            "shape of x test:  (440, 7)\n",
            "shape of y train:  (1760,)\n",
            "shape of y test:  (440,)\n"
          ]
        }
      ]
    },
    {
      "cell_type": "code",
      "metadata": {
        "id": "k_P8BUDvLf0s",
        "colab": {
          "base_uri": "https://localhost:8080/"
        },
        "outputId": "c9c7995f-b002-4389-dbbe-da2975333a4c"
      },
      "source": [
        "#Create a predictive modle using LR\n",
        "\n",
        "from sklearn.linear_model import LogisticRegression\n",
        "model=LogisticRegression()\n",
        "a=timeit.default_timer()\n",
        "model.fit(x_train,y_train)\n",
        "b=timeit.default_timer()\n",
        "tLR=b-a\n",
        "print(tLR)\n",
        "y_pred=model.predict(x_test)"
      ],
      "execution_count": null,
      "outputs": [
        {
          "output_type": "stream",
          "name": "stdout",
          "text": [
            "0.48875339800000006\n"
          ]
        },
        {
          "output_type": "stream",
          "name": "stderr",
          "text": [
            "/usr/local/lib/python3.7/dist-packages/sklearn/linear_model/_logistic.py:818: ConvergenceWarning: lbfgs failed to converge (status=1):\n",
            "STOP: TOTAL NO. of ITERATIONS REACHED LIMIT.\n",
            "\n",
            "Increase the number of iterations (max_iter) or scale the data as shown in:\n",
            "    https://scikit-learn.org/stable/modules/preprocessing.html\n",
            "Please also refer to the documentation for alternative solver options:\n",
            "    https://scikit-learn.org/stable/modules/linear_model.html#logistic-regression\n",
            "  extra_warning_msg=_LOGISTIC_SOLVER_CONVERGENCE_MSG,\n"
          ]
        }
      ]
    },
    {
      "cell_type": "code",
      "metadata": {
        "id": "eKp0jpfAMK8G",
        "colab": {
          "base_uri": "https://localhost:8080/",
          "height": 609
        },
        "outputId": "f17f79f1-46eb-4819-818f-9f77c89ec3cf"
      },
      "source": [
        "#Evalute model performance\n",
        "\n",
        "from sklearn.metrics import confusion_matrix\n",
        "plt.rcParams[\"figure.figsize\"]=(10,10)\n",
        "cm=confusion_matrix(y_test,y_pred)\n",
        "sns.heatmap(cm,annot=True,cmap=\"Wistia\")\n",
        "plt.title(\"CM for LR\",fontsize=15)\n",
        "plt.show()"
      ],
      "execution_count": null,
      "outputs": [
        {
          "output_type": "display_data",
          "data": {
            "image/png": "[encoded data removed]",
            "text/plain": [
              "<Figure size 720x720 with 2 Axes>"
            ]
          },
          "metadata": {
            "needs_background": "light"
          }
        }
      ]
    },
    {
      "cell_type": "code",
      "metadata": {
        "id": "ejzWWZemNFBk",
        "colab": {
          "base_uri": "https://localhost:8080/"
        },
        "outputId": "1f4fb597-7ac5-4297-e33f-3e9d920c73e7"
      },
      "source": [
        "#classification report of LR\n",
        "\n",
        "from sklearn.metrics import classification_report\n",
        "print(classification_report(y_test, y_pred))#97"
      ],
      "execution_count": null,
      "outputs": [
        {
          "output_type": "stream",
          "name": "stdout",
          "text": [
            "              precision    recall  f1-score   support\n",
            "\n",
            "       apple       1.00      1.00      1.00        18\n",
            "      banana       1.00      1.00      1.00        18\n",
            "   blackgram       0.86      0.82      0.84        22\n",
            "    chickpea       1.00      1.00      1.00        23\n",
            "     coconut       1.00      1.00      1.00        15\n",
            "      coffee       1.00      1.00      1.00        17\n",
            "      cotton       0.89      1.00      0.94        16\n",
            "      grapes       1.00      1.00      1.00        18\n",
            "        jute       0.84      1.00      0.91        21\n",
            " kidneybeans       1.00      1.00      1.00        20\n",
            "      lentil       0.94      0.94      0.94        17\n",
            "       maize       0.94      0.89      0.91        18\n",
            "       mango       1.00      1.00      1.00        21\n",
            "   mothbeans       0.88      0.92      0.90        25\n",
            "    mungbean       1.00      1.00      1.00        17\n",
            "   muskmelon       1.00      1.00      1.00        23\n",
            "      orange       1.00      1.00      1.00        23\n",
            "      papaya       1.00      0.95      0.98        21\n",
            "  pigeonpeas       1.00      1.00      1.00        22\n",
            " pomegranate       1.00      1.00      1.00        23\n",
            "        rice       1.00      0.84      0.91        25\n",
            "  watermelon       1.00      1.00      1.00        17\n",
            "\n",
            "    accuracy                           0.97       440\n",
            "   macro avg       0.97      0.97      0.97       440\n",
            "weighted avg       0.97      0.97      0.97       440\n",
            "\n"
          ]
        }
      ]
    },
    {
      "cell_type": "code",
      "metadata": {
        "id": "WQxoPYhxOhid",
        "colab": {
          "base_uri": "https://localhost:8080/",
          "height": 203
        },
        "outputId": "e34b1257-fd9e-4053-e542-60dd9fdada1d"
      },
      "source": [
        "data.head()"
      ],
      "execution_count": null,
      "outputs": [
        {
          "output_type": "execute_result",
          "data": {
            "text/html": [
              "<div>\n",
              "<style scoped>\n",
              "    .dataframe tbody tr th:only-of-type {\n",
              "        vertical-align: middle;\n",
              "    }\n",
              "\n",
              "    .dataframe tbody tr th {\n",
              "        vertical-align: top;\n",
              "    }\n",
              "\n",
              "    .dataframe thead th {\n",
              "        text-align: right;\n",
              "    }\n",
              "</style>\n",
              "<table border=\"1\" class=\"dataframe\">\n",
              "  <thead>\n",
              "    <tr style=\"text-align: right;\">\n",
              "      <th></th>\n",
              "      <th>N</th>\n",
              "      <th>P</th>\n",
              "      <th>K</th>\n",
              "      <th>temperature</th>\n",
              "      <th>humidity</th>\n",
              "      <th>ph</th>\n",
              "      <th>rainfall</th>\n",
              "      <th>label</th>\n",
              "    </tr>\n",
              "  </thead>\n",
              "  <tbody>\n",
              "    <tr>\n",
              "      <th>0</th>\n",
              "      <td>90</td>\n",
              "      <td>42</td>\n",
              "      <td>43</td>\n",
              "      <td>20.879744</td>\n",
              "      <td>82.002744</td>\n",
              "      <td>6.502985</td>\n",
              "      <td>202.935536</td>\n",
              "      <td>rice</td>\n",
              "    </tr>\n",
              "    <tr>\n",
              "      <th>1</th>\n",
              "      <td>85</td>\n",
              "      <td>58</td>\n",
              "      <td>41</td>\n",
              "      <td>21.770462</td>\n",
              "      <td>80.319644</td>\n",
              "      <td>7.038096</td>\n",
              "      <td>226.655537</td>\n",
              "      <td>rice</td>\n",
              "    </tr>\n",
              "    <tr>\n",
              "      <th>2</th>\n",
              "      <td>60</td>\n",
              "      <td>55</td>\n",
              "      <td>44</td>\n",
              "      <td>23.004459</td>\n",
              "      <td>82.320763</td>\n",
              "      <td>7.840207</td>\n",
              "      <td>263.964248</td>\n",
              "      <td>rice</td>\n",
              "    </tr>\n",
              "    <tr>\n",
              "      <th>3</th>\n",
              "      <td>74</td>\n",
              "      <td>35</td>\n",
              "      <td>40</td>\n",
              "      <td>26.491096</td>\n",
              "      <td>80.158363</td>\n",
              "      <td>6.980401</td>\n",
              "      <td>242.864034</td>\n",
              "      <td>rice</td>\n",
              "    </tr>\n",
              "    <tr>\n",
              "      <th>4</th>\n",
              "      <td>78</td>\n",
              "      <td>42</td>\n",
              "      <td>42</td>\n",
              "      <td>20.130175</td>\n",
              "      <td>81.604873</td>\n",
              "      <td>7.628473</td>\n",
              "      <td>262.717340</td>\n",
              "      <td>rice</td>\n",
              "    </tr>\n",
              "  </tbody>\n",
              "</table>\n",
              "</div>"
            ],
            "text/plain": [
              "    N   P   K  temperature   humidity        ph    rainfall label\n",
              "0  90  42  43    20.879744  82.002744  6.502985  202.935536  rice\n",
              "1  85  58  41    21.770462  80.319644  7.038096  226.655537  rice\n",
              "2  60  55  44    23.004459  82.320763  7.840207  263.964248  rice\n",
              "3  74  35  40    26.491096  80.158363  6.980401  242.864034  rice\n",
              "4  78  42  42    20.130175  81.604873  7.628473  262.717340  rice"
            ]
          },
          "metadata": {},
          "execution_count": 26
        }
      ]
    },
    {
      "cell_type": "code",
      "metadata": {
        "id": "6FyUPZy8OlAh",
        "colab": {
          "base_uri": "https://localhost:8080/"
        },
        "outputId": "5a9d1c46-3930-49f7-e6a0-ee9ff53a0234"
      },
      "source": [
        "#making prediction\n",
        "prediction=model.predict((np.array([[80,\n",
        "                                    45,\n",
        "                                    70,\n",
        "                                    28,\n",
        "                                    92.5,\n",
        "                                    5.1,\n",
        "                                    77.07]])))\n",
        "print(\"suggested crop : \",prediction)"
      ],
      "execution_count": null,
      "outputs": [
        {
          "output_type": "stream",
          "name": "stdout",
          "text": [
            "suggested crop :  ['papaya']\n"
          ]
        },
        {
          "output_type": "stream",
          "name": "stderr",
          "text": [
            "/usr/local/lib/python3.7/dist-packages/sklearn/base.py:446: UserWarning: X does not have valid feature names, but LogisticRegression was fitted with feature names\n",
            "  \"X does not have valid feature names, but\"\n"
          ]
        }
      ]
    },
    {
      "cell_type": "code",
      "metadata": {
        "id": "005jhiDCuRh5",
        "colab": {
          "base_uri": "https://localhost:8080/"
        },
        "outputId": "73e04a4a-7244-46a9-91c7-52afb2df9218"
      },
      "source": [
        "#Create a predictive modle using DT\n",
        "\n",
        "from sklearn.tree import DecisionTreeClassifier \n",
        "DecisionTree = DecisionTreeClassifier()\n",
        "c=timeit.default_timer() \n",
        "DecisionTree.fit(x_train,y_train)\n",
        "d=timeit.default_timer()\n",
        "tDT=d-c\n",
        "print(tDT)\n",
        "y_predt=DecisionTree.predict(x_test)"
      ],
      "execution_count": null,
      "outputs": [
        {
          "output_type": "stream",
          "name": "stdout",
          "text": [
            "0.02236066599999731\n"
          ]
        }
      ]
    },
    {
      "cell_type": "code",
      "metadata": {
        "id": "QfKNQWM6uymR",
        "colab": {
          "base_uri": "https://localhost:8080/"
        },
        "outputId": "8de0dfda-740a-41a5-853a-f764a485dceb"
      },
      "source": [
        "from sklearn.metrics import classification_report\n",
        "print(classification_report(y_test, y_predt))#99"
      ],
      "execution_count": null,
      "outputs": [
        {
          "output_type": "stream",
          "name": "stdout",
          "text": [
            "              precision    recall  f1-score   support\n",
            "\n",
            "       apple       1.00      1.00      1.00        18\n",
            "      banana       1.00      1.00      1.00        18\n",
            "   blackgram       1.00      0.91      0.95        22\n",
            "    chickpea       1.00      1.00      1.00        23\n",
            "     coconut       1.00      1.00      1.00        15\n",
            "      coffee       1.00      1.00      1.00        17\n",
            "      cotton       1.00      1.00      1.00        16\n",
            "      grapes       1.00      1.00      1.00        18\n",
            "        jute       0.95      1.00      0.98        21\n",
            " kidneybeans       1.00      1.00      1.00        20\n",
            "      lentil       1.00      1.00      1.00        17\n",
            "       maize       1.00      1.00      1.00        18\n",
            "       mango       1.00      1.00      1.00        21\n",
            "   mothbeans       0.93      1.00      0.96        25\n",
            "    mungbean       1.00      1.00      1.00        17\n",
            "   muskmelon       1.00      1.00      1.00        23\n",
            "      orange       1.00      1.00      1.00        23\n",
            "      papaya       1.00      1.00      1.00        21\n",
            "  pigeonpeas       1.00      1.00      1.00        22\n",
            " pomegranate       1.00      1.00      1.00        23\n",
            "        rice       1.00      0.96      0.98        25\n",
            "  watermelon       1.00      1.00      1.00        17\n",
            "\n",
            "    accuracy                           0.99       440\n",
            "   macro avg       0.99      0.99      0.99       440\n",
            "weighted avg       0.99      0.99      0.99       440\n",
            "\n"
          ]
        }
      ]
    },
    {
      "cell_type": "code",
      "metadata": {
        "id": "3a4TBg6QxclL",
        "colab": {
          "base_uri": "https://localhost:8080/"
        },
        "outputId": "6c458554-5496-45d2-818a-541ca5e5e600"
      },
      "source": [
        "#Create a predictive modle using NB\n",
        "\n",
        "from sklearn.naive_bayes import GaussianNB \n",
        "NaiveBayes = GaussianNB() \n",
        "e=timeit.default_timer() \n",
        "NaiveBayes.fit(x_train,y_train)\n",
        "f=timeit.default_timer()\n",
        "tGB=f-e\n",
        "print(tGB)\n",
        "y_pren=NaiveBayes.predict(x_test)"
      ],
      "execution_count": null,
      "outputs": [
        {
          "output_type": "stream",
          "name": "stdout",
          "text": [
            "0.009453879000005827\n"
          ]
        }
      ]
    },
    {
      "cell_type": "code",
      "metadata": {
        "id": "pSjme8j1yXT-",
        "colab": {
          "base_uri": "https://localhost:8080/"
        },
        "outputId": "e6d7fa69-da3a-4149-c076-ec3afb56c120"
      },
      "source": [
        "from sklearn.metrics import classification_report\n",
        "print(classification_report(y_test, y_pren))#99"
      ],
      "execution_count": null,
      "outputs": [
        {
          "output_type": "stream",
          "name": "stdout",
          "text": [
            "              precision    recall  f1-score   support\n",
            "\n",
            "       apple       1.00      1.00      1.00        18\n",
            "      banana       1.00      1.00      1.00        18\n",
            "   blackgram       1.00      1.00      1.00        22\n",
            "    chickpea       1.00      1.00      1.00        23\n",
            "     coconut       1.00      1.00      1.00        15\n",
            "      coffee       1.00      1.00      1.00        17\n",
            "      cotton       1.00      1.00      1.00        16\n",
            "      grapes       1.00      1.00      1.00        18\n",
            "        jute       0.88      1.00      0.93        21\n",
            " kidneybeans       1.00      1.00      1.00        20\n",
            "      lentil       1.00      1.00      1.00        17\n",
            "       maize       1.00      1.00      1.00        18\n",
            "       mango       1.00      1.00      1.00        21\n",
            "   mothbeans       1.00      1.00      1.00        25\n",
            "    mungbean       1.00      1.00      1.00        17\n",
            "   muskmelon       1.00      1.00      1.00        23\n",
            "      orange       1.00      1.00      1.00        23\n",
            "      papaya       1.00      1.00      1.00        21\n",
            "  pigeonpeas       1.00      1.00      1.00        22\n",
            " pomegranate       1.00      1.00      1.00        23\n",
            "        rice       1.00      0.88      0.94        25\n",
            "  watermelon       1.00      1.00      1.00        17\n",
            "\n",
            "    accuracy                           0.99       440\n",
            "   macro avg       0.99      0.99      0.99       440\n",
            "weighted avg       0.99      0.99      0.99       440\n",
            "\n"
          ]
        }
      ]
    },
    {
      "cell_type": "code",
      "metadata": {
        "id": "wWrMYcgxzcST",
        "colab": {
          "base_uri": "https://localhost:8080/"
        },
        "outputId": "7dfabbb4-c621-458d-c67c-6dc8aed9477e"
      },
      "source": [
        "#Create a predictive modle using RF\n",
        "\n",
        "from sklearn.ensemble import RandomForestClassifier \n",
        "RF = RandomForestClassifier() \n",
        "g=timeit.default_timer() \n",
        "RF.fit(x_train,y_train)\n",
        "h=timeit.default_timer()\n",
        "tRF=h-g\n",
        "print(tRF)\n",
        "y_predrf=RF.predict(x_test)"
      ],
      "execution_count": null,
      "outputs": [
        {
          "output_type": "stream",
          "name": "stdout",
          "text": [
            "0.36046925800000906\n"
          ]
        }
      ]
    },
    {
      "cell_type": "code",
      "metadata": {
        "id": "XQjxFk-5zz1D",
        "colab": {
          "base_uri": "https://localhost:8080/"
        },
        "outputId": "70e7629a-b118-4bed-926d-3db9b9223dfe"
      },
      "source": [
        "from sklearn.metrics import classification_report\n",
        "print(classification_report(y_test, y_predrf))#100"
      ],
      "execution_count": null,
      "outputs": [
        {
          "output_type": "stream",
          "name": "stdout",
          "text": [
            "              precision    recall  f1-score   support\n",
            "\n",
            "       apple       1.00      1.00      1.00        18\n",
            "      banana       1.00      1.00      1.00        18\n",
            "   blackgram       1.00      1.00      1.00        22\n",
            "    chickpea       1.00      1.00      1.00        23\n",
            "     coconut       1.00      1.00      1.00        15\n",
            "      coffee       1.00      1.00      1.00        17\n",
            "      cotton       1.00      1.00      1.00        16\n",
            "      grapes       1.00      1.00      1.00        18\n",
            "        jute       0.95      1.00      0.98        21\n",
            " kidneybeans       1.00      1.00      1.00        20\n",
            "      lentil       1.00      1.00      1.00        17\n",
            "       maize       1.00      1.00      1.00        18\n",
            "       mango       1.00      1.00      1.00        21\n",
            "   mothbeans       1.00      1.00      1.00        25\n",
            "    mungbean       1.00      1.00      1.00        17\n",
            "   muskmelon       1.00      1.00      1.00        23\n",
            "      orange       1.00      1.00      1.00        23\n",
            "      papaya       1.00      1.00      1.00        21\n",
            "  pigeonpeas       1.00      1.00      1.00        22\n",
            " pomegranate       1.00      1.00      1.00        23\n",
            "        rice       1.00      0.96      0.98        25\n",
            "  watermelon       1.00      1.00      1.00        17\n",
            "\n",
            "    accuracy                           1.00       440\n",
            "   macro avg       1.00      1.00      1.00       440\n",
            "weighted avg       1.00      1.00      1.00       440\n",
            "\n"
          ]
        }
      ]
    },
    {
      "cell_type": "code",
      "metadata": {
        "id": "ecEWX71L0FWh",
        "colab": {
          "base_uri": "https://localhost:8080/"
        },
        "outputId": "90e8cedb-1f4d-41f4-cea2-795b37581a71"
      },
      "source": [
        "#Create a predictive modle using SVC\n",
        "\n",
        "from sklearn.svm import SVC \n",
        "SVM = SVC() \n",
        "i=timeit.default_timer() \n",
        "SVM.fit(x_train,y_train)\n",
        "j=timeit.default_timer()\n",
        "tSVC=j-i\n",
        "print(tSVC)\n",
        "y_predsvm=SVM.predict(x_test)"
      ],
      "execution_count": null,
      "outputs": [
        {
          "output_type": "stream",
          "name": "stdout",
          "text": [
            "0.049760961000004045\n"
          ]
        }
      ]
    },
    {
      "cell_type": "code",
      "metadata": {
        "id": "e6nCFWnO0SzP",
        "colab": {
          "base_uri": "https://localhost:8080/"
        },
        "outputId": "c44140a1-405c-4bd6-9731-a958fc176c0d"
      },
      "source": [
        "from sklearn.metrics import classification_report\n",
        "print(classification_report(y_test, y_predsvm))#98"
      ],
      "execution_count": null,
      "outputs": [
        {
          "output_type": "stream",
          "name": "stdout",
          "text": [
            "              precision    recall  f1-score   support\n",
            "\n",
            "       apple       1.00      1.00      1.00        18\n",
            "      banana       1.00      1.00      1.00        18\n",
            "   blackgram       0.96      1.00      0.98        22\n",
            "    chickpea       1.00      1.00      1.00        23\n",
            "     coconut       1.00      1.00      1.00        15\n",
            "      coffee       1.00      1.00      1.00        17\n",
            "      cotton       1.00      1.00      1.00        16\n",
            "      grapes       1.00      1.00      1.00        18\n",
            "        jute       0.78      1.00      0.88        21\n",
            " kidneybeans       0.87      1.00      0.93        20\n",
            "      lentil       1.00      1.00      1.00        17\n",
            "       maize       1.00      1.00      1.00        18\n",
            "       mango       1.00      1.00      1.00        21\n",
            "   mothbeans       1.00      0.96      0.98        25\n",
            "    mungbean       1.00      1.00      1.00        17\n",
            "   muskmelon       1.00      1.00      1.00        23\n",
            "      orange       1.00      1.00      1.00        23\n",
            "      papaya       1.00      1.00      1.00        21\n",
            "  pigeonpeas       1.00      0.86      0.93        22\n",
            " pomegranate       1.00      1.00      1.00        23\n",
            "        rice       1.00      0.76      0.86        25\n",
            "  watermelon       1.00      1.00      1.00        17\n",
            "\n",
            "    accuracy                           0.98       440\n",
            "   macro avg       0.98      0.98      0.98       440\n",
            "weighted avg       0.98      0.98      0.98       440\n",
            "\n"
          ]
        }
      ]
    },
    {
      "cell_type": "code",
      "metadata": {
        "id": "QQptJ1xO02NU",
        "colab": {
          "base_uri": "https://localhost:8080/"
        },
        "outputId": "20f5d8cf-637f-4976-f6ed-d519d29766bc"
      },
      "source": [
        "#Create a predictive modle using XGB\n",
        "\n",
        "import xgboost as xgb \n",
        "XB = xgb.XGBClassifier() \n",
        "k=timeit.default_timer() \n",
        "XB.fit(x_train,y_train)\n",
        "l=timeit.default_timer()\n",
        "txgb=l-k\n",
        "print(txgb)\n",
        "y_predxb=XB.predict(x_test)"
      ],
      "execution_count": null,
      "outputs": [
        {
          "output_type": "stream",
          "name": "stdout",
          "text": [
            "1.4828985310000036\n"
          ]
        }
      ]
    },
    {
      "cell_type": "code",
      "metadata": {
        "id": "OWtAM8T51Il2",
        "colab": {
          "base_uri": "https://localhost:8080/"
        },
        "outputId": "a1a41256-dad8-45bf-d3d0-49f8c152f7d1"
      },
      "source": [
        "from sklearn.metrics import classification_report\n",
        "print(classification_report(y_test, y_predxb))#100"
      ],
      "execution_count": null,
      "outputs": [
        {
          "output_type": "stream",
          "name": "stdout",
          "text": [
            "              precision    recall  f1-score   support\n",
            "\n",
            "       apple       1.00      1.00      1.00        18\n",
            "      banana       1.00      1.00      1.00        18\n",
            "   blackgram       1.00      1.00      1.00        22\n",
            "    chickpea       1.00      1.00      1.00        23\n",
            "     coconut       1.00      1.00      1.00        15\n",
            "      coffee       1.00      1.00      1.00        17\n",
            "      cotton       1.00      1.00      1.00        16\n",
            "      grapes       1.00      1.00      1.00        18\n",
            "        jute       0.95      1.00      0.98        21\n",
            " kidneybeans       1.00      1.00      1.00        20\n",
            "      lentil       1.00      0.94      0.97        17\n",
            "       maize       1.00      1.00      1.00        18\n",
            "       mango       1.00      1.00      1.00        21\n",
            "   mothbeans       0.96      1.00      0.98        25\n",
            "    mungbean       1.00      1.00      1.00        17\n",
            "   muskmelon       1.00      1.00      1.00        23\n",
            "      orange       1.00      1.00      1.00        23\n",
            "      papaya       1.00      0.95      0.98        21\n",
            "  pigeonpeas       1.00      1.00      1.00        22\n",
            " pomegranate       1.00      1.00      1.00        23\n",
            "        rice       1.00      1.00      1.00        25\n",
            "  watermelon       1.00      1.00      1.00        17\n",
            "\n",
            "    accuracy                           1.00       440\n",
            "   macro avg       1.00      1.00      1.00       440\n",
            "weighted avg       1.00      1.00      1.00       440\n",
            "\n"
          ]
        }
      ]
    },
    {
      "cell_type": "code",
      "metadata": {
        "id": "TehCHmDZ1gTb"
      },
      "source": [
        " lr=model.score(x_test,y_test)*100\n",
        " lr1=\"{:.4f}\".format(lr)\n",
        " "
      ],
      "execution_count": null,
      "outputs": []
    },
    {
      "cell_type": "code",
      "metadata": {
        "id": "SnptkOza14pF"
      },
      "source": [
        "dct=DecisionTree.score(x_test,y_test)*100\n",
        "dct1=\"{:.4f}\".format(dct)"
      ],
      "execution_count": null,
      "outputs": []
    },
    {
      "cell_type": "code",
      "metadata": {
        "id": "-Ahv4Nr62gOL"
      },
      "source": [
        "nb=NaiveBayes.score(x_test,y_test)*100\n",
        "nb1=\"{:.4f}\".format(nb)"
      ],
      "execution_count": null,
      "outputs": []
    },
    {
      "cell_type": "code",
      "metadata": {
        "id": "snlvtQOM2dKs"
      },
      "source": [
        "xb=XB.score(x_test,y_test)*100\n",
        "xb1=\"{:.4f}\".format(xb)"
      ],
      "execution_count": null,
      "outputs": []
    },
    {
      "cell_type": "code",
      "metadata": {
        "id": "bKorTUFL2bel"
      },
      "source": [
        "rf=RF.score(x_test,y_test)*100\n",
        "rf1=\"{:.4f}\".format(rf)"
      ],
      "execution_count": null,
      "outputs": []
    },
    {
      "cell_type": "code",
      "metadata": {
        "id": "rWc8y-Gi2YxT"
      },
      "source": [
        "svm=SVM.score(x_test,y_test)*100\n",
        "svm1=\"{:.4f}\".format(svm)"
      ],
      "execution_count": null,
      "outputs": []
    },
    {
      "cell_type": "code",
      "metadata": {
        "id": "Wb7FxEWLK8jf",
        "colab": {
          "base_uri": "https://localhost:8080/",
          "height": 350
        },
        "outputId": "bd4321be-c758-4c3e-d2fc-49ebd1b91850"
      },
      "source": [
        "x = [\"LR\", \"SVM\", \"NB\", \"RF\", \"XBG\", \"DCT\"]\n",
        "y = [lr, svm, nb, rf, xb, dct]\n",
        "fig = plt.figure(figsize = (15, 5))\n",
        "plt.xlabel(\"accuracy (in pecentage)\")\n",
        "plt.ylabel(\"ML models\")\n",
        "width=0.4\n",
        "plt.barh(x, y, width, color=\"green\")\n",
        "for index, value in enumerate(y):\n",
        "    plt.text(value, index,\n",
        "             str(value), color = 'blue')\n",
        "plt.title(\"Comparision of accuracy on different models\") \n",
        "plt.show()"
      ],
      "execution_count": null,
      "outputs": [
        {
          "output_type": "display_data",
          "data": {
            "image/png": "[encoded data removed]",
            "text/plain": [
              "<Figure size 1080x360 with 1 Axes>"
            ]
          },
          "metadata": {
            "needs_background": "light"
          }
        }
      ]
    },
    {
      "cell_type": "code",
      "metadata": {
        "id": "Udz207kSO0J-",
        "colab": {
          "base_uri": "https://localhost:8080/",
          "height": 350
        },
        "outputId": "2d6bdafe-4984-4836-dd33-9f7d583cdda1"
      },
      "source": [
        "x = [\"LR\", \"SVM\", \"NB\", \"RF\", \"XBG\", \"DCT\"]\n",
        "y = [tLR, tSVC, tGB, tRF, txgb, tDT]\n",
        "fig = plt.figure(figsize = (15, 5))\n",
        "plt.xlabel(\"time (in seconds)\")\n",
        "plt.ylabel(\"ML models\")\n",
        "width=0.4\n",
        "plt.barh(x, y, width, color=\"blue\")\n",
        "for index, value in enumerate(y):\n",
        "    plt.text(value, index,\n",
        "             str(value), color = 'red')\n",
        "plt.title(\"Comparision of total time on different models\") \n",
        "plt.show()"
      ],
      "execution_count": null,
      "outputs": [
        {
          "output_type": "display_data",
          "data": {
            "image/png": "[encoded data removed]",
            "text/plain": [
              "<Figure size 1080x360 with 1 Axes>"
            ]
          },
          "metadata": {
            "needs_background": "light"
          }
        }
      ]
    }
  ]
}